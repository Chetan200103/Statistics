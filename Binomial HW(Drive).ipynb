{
 "cells": [
  {
   "cell_type": "markdown",
   "id": "ed4e3efa",
   "metadata": {},
   "source": [
    "# 1"
   ]
  },
  {
   "cell_type": "markdown",
   "id": "7aa57346",
   "metadata": {},
   "source": [
    "If from six to seven in the evening one telephone line in every five is engaged in a conversation: what is the probability that when 10 telephone numbers are chosen at random, only two are in use?\n",
    "\n"
   ]
  },
  {
   "cell_type": "code",
   "execution_count": 1,
   "id": "3441625d",
   "metadata": {},
   "outputs": [],
   "source": [
    "from scipy.stats import binom,poisson,norm"
   ]
  },
  {
   "cell_type": "code",
   "execution_count": 55,
   "id": "dc1b4615",
   "metadata": {},
   "outputs": [
    {
     "data": {
      "text/plain": [
       "0.30198988800000004"
      ]
     },
     "execution_count": 55,
     "metadata": {},
     "output_type": "execute_result"
    }
   ],
   "source": [
    "binom.pmf(2,10,0.2)"
   ]
  },
  {
   "cell_type": "markdown",
   "id": "b1adc9fc",
   "metadata": {},
   "source": [
    "# 2"
   ]
  },
  {
   "cell_type": "markdown",
   "id": "108bdc99",
   "metadata": {},
   "source": [
    "In the old days, there was a probability of 0.8 of success in any attempt to make a telephone call. (This often depended on the importance of the person making the call, or the operator's curiosity!)\n",
    "Calculate the probability of having 7 successes in 10 attempts.\n",
    "\n"
   ]
  },
  {
   "cell_type": "code",
   "execution_count": 14,
   "id": "c7f2bdf1",
   "metadata": {},
   "outputs": [
    {
     "data": {
      "text/plain": [
       "0.20132659199999978"
      ]
     },
     "execution_count": 14,
     "metadata": {},
     "output_type": "execute_result"
    }
   ],
   "source": [
    "binom.pmf(7,10,0.8)"
   ]
  },
  {
   "cell_type": "markdown",
   "id": "b8a834ad",
   "metadata": {},
   "source": [
    "# 3"
   ]
  },
  {
   "cell_type": "markdown",
   "id": "877a5a74",
   "metadata": {},
   "source": [
    "A box of candies has many different colors in it.There is a 15% chance of getting a pink candy . what is the probability that exactly 4 candies in a box are pink out of 10?\n"
   ]
  },
  {
   "cell_type": "code",
   "execution_count": 16,
   "id": "6b0488ad",
   "metadata": {},
   "outputs": [
    {
     "data": {
      "text/plain": [
       "0.04009570787988276"
      ]
     },
     "execution_count": 16,
     "metadata": {},
     "output_type": "execute_result"
    }
   ],
   "source": [
    "binom.pmf(4,10,0.15)"
   ]
  },
  {
   "cell_type": "markdown",
   "id": "4e62885c",
   "metadata": {},
   "source": [
    "#  4 "
   ]
  },
  {
   "cell_type": "markdown",
   "id": "3e1359d1",
   "metadata": {},
   "source": [
    "A biased coin is tossed 6 times. The Probability of heads on any toss is 0.3. Let X denote the number of heads that come up.\n",
    "Calculate:\n",
    "a) P(X = 2)\n",
    "b) P(X = 3)\n",
    "c) P(1<X<=5)\n"
   ]
  },
  {
   "cell_type": "markdown",
   "id": "14d0f307",
   "metadata": {},
   "source": [
    "a) P(X = 2)"
   ]
  },
  {
   "cell_type": "code",
   "execution_count": 17,
   "id": "f94d6bfb",
   "metadata": {},
   "outputs": [
    {
     "data": {
      "text/plain": [
       "0.3241349999999999"
      ]
     },
     "execution_count": 17,
     "metadata": {},
     "output_type": "execute_result"
    }
   ],
   "source": [
    "binom.pmf(2,6,0.3)"
   ]
  },
  {
   "cell_type": "markdown",
   "id": "a7316a69",
   "metadata": {},
   "source": [
    " P(X = 3)"
   ]
  },
  {
   "cell_type": "code",
   "execution_count": 18,
   "id": "de22d048",
   "metadata": {},
   "outputs": [
    {
     "data": {
      "text/plain": [
       "0.1852199999999999"
      ]
     },
     "execution_count": 18,
     "metadata": {},
     "output_type": "execute_result"
    }
   ],
   "source": [
    "binom.pmf(3,6,0.3)"
   ]
  },
  {
   "cell_type": "markdown",
   "id": "63163601",
   "metadata": {},
   "source": [
    "c) P(1<X<=5)"
   ]
  },
  {
   "cell_type": "code",
   "execution_count": 57,
   "id": "a7ba7e66",
   "metadata": {},
   "outputs": [
    {
     "data": {
      "text/plain": [
       "0.059535"
      ]
     },
     "execution_count": 57,
     "metadata": {},
     "output_type": "execute_result"
    }
   ],
   "source": [
    "binom.pmf(4,6,0.3)"
   ]
  },
  {
   "cell_type": "markdown",
   "id": "44c81fe2",
   "metadata": {},
   "source": [
    "# 5 "
   ]
  },
  {
   "cell_type": "markdown",
   "id": "5e13fd1e",
   "metadata": {},
   "source": [
    "The probability that a person can achieve a target is 3/4. The count of tries is 5. What is the probability that he will attain the target at least thrice?"
   ]
  },
  {
   "cell_type": "code",
   "execution_count": 51,
   "id": "d121157c",
   "metadata": {},
   "outputs": [
    {
     "data": {
      "text/plain": [
       "0.103515625"
      ]
     },
     "execution_count": 51,
     "metadata": {},
     "output_type": "execute_result"
    }
   ],
   "source": [
    "binom.cdf(2,5,0.75)"
   ]
  },
  {
   "cell_type": "markdown",
   "id": "8c4c3be4",
   "metadata": {},
   "source": [
    "# 6 \n",
    "A pharmaceutical lab states that a drug causes negative side effects in 3 of every 100 patients. To confirm this affirmation, another laboratory chooses 5 people at random who have consumed the drug. What is the probability of the following events?\n",
    "            1.None of the five patients experience side effects.\n",
    "            2.At least two experience side effects."
   ]
  },
  {
   "cell_type": "code",
   "execution_count": 48,
   "id": "96e75214",
   "metadata": {},
   "outputs": [
    {
     "data": {
      "text/plain": [
       "0.16806999999999994"
      ]
     },
     "execution_count": 48,
     "metadata": {},
     "output_type": "execute_result"
    }
   ],
   "source": [
    "binom.pmf(0,5,0.3)"
   ]
  },
  {
   "cell_type": "code",
   "execution_count": 46,
   "id": "05f99aa5",
   "metadata": {},
   "outputs": [
    {
     "data": {
      "text/plain": [
       "0.3601499999999999"
      ]
     },
     "execution_count": 46,
     "metadata": {},
     "output_type": "execute_result"
    }
   ],
   "source": [
    "binom.pmf(1,5,0.3)"
   ]
  },
  {
   "cell_type": "markdown",
   "id": "cadedbd1",
   "metadata": {},
   "source": [
    "# 7"
   ]
  },
  {
   "cell_type": "markdown",
   "id": "09afbe52",
   "metadata": {},
   "source": []
  },
  {
   "cell_type": "markdown",
   "id": "a687f64d",
   "metadata": {},
   "source": [
    "# 8"
   ]
  },
  {
   "cell_type": "markdown",
   "id": "a0c06fd6",
   "metadata": {},
   "source": [
    ".Your basketball team is playing a series of 5 games against your opponent.                 The winner is those who wins more games (out of 5).Let assume that your team is    much more skilled and has 75% chances of winning. It means there is a 25% chance of losing.\n",
    "What is the probability of your team get 3 wins?\n"
   ]
  },
  {
   "cell_type": "code",
   "execution_count": 58,
   "id": "c7296af9",
   "metadata": {},
   "outputs": [
    {
     "data": {
      "text/plain": [
       "0.26367187499999983"
      ]
     },
     "execution_count": 58,
     "metadata": {},
     "output_type": "execute_result"
    }
   ],
   "source": [
    "binom.pmf(3,5,0.75)"
   ]
  },
  {
   "cell_type": "markdown",
   "id": "0577e8b5",
   "metadata": {},
   "source": [
    "# 9 "
   ]
  },
  {
   "cell_type": "markdown",
   "id": "c1b3d1fa",
   "metadata": {},
   "source": [
    "- Let’s say that 80% of all business startups in the IT industry report that they generate a profit in their first year. If a sample of 10 new IT business startups is selected, find the probability that exactly seven will generate a profit in their first year.\n",
    "First, do we satisfy the conditions of the binomial distribution?\n",
    "There are only two possible mutually exclusive outcomes – to generate a profit in the first year or not (yes or no).\n",
    "There are a fixed number of trails (startups) – 10.\n",
    "The IT startups are independent and it is reasonable to assume that this is true.\n",
    "The probability of success for each startup is 0.8\n"
   ]
  },
  {
   "cell_type": "code",
   "execution_count": 59,
   "id": "e67f8b29",
   "metadata": {},
   "outputs": [
    {
     "data": {
      "text/plain": [
       "0.20132659199999978"
      ]
     },
     "execution_count": 59,
     "metadata": {},
     "output_type": "execute_result"
    }
   ],
   "source": [
    "binom.pmf(7,10,0.80)"
   ]
  },
  {
   "cell_type": "markdown",
   "id": "04edf0dc",
   "metadata": {},
   "source": [
    "# 10"
   ]
  },
  {
   "cell_type": "markdown",
   "id": "30419e11",
   "metadata": {},
   "source": [
    "If X is binomially distributed with 6 trials and a probability of success equal to 1 4 at each attempt, what is the probability of:\n",
    " (a) exactly 4 successes \n",
    " (b) at least one success?\n"
   ]
  },
  {
   "cell_type": "code",
   "execution_count": 60,
   "id": "defd637f",
   "metadata": {},
   "outputs": [
    {
     "data": {
      "text/plain": [
       "0.03295898437499997"
      ]
     },
     "execution_count": 60,
     "metadata": {},
     "output_type": "execute_result"
    }
   ],
   "source": [
    "binom.pmf(4,6,0.25)"
   ]
  },
  {
   "cell_type": "code",
   "execution_count": 61,
   "id": "4be0d06a",
   "metadata": {},
   "outputs": [
    {
     "data": {
      "text/plain": [
       "0.35595703125"
      ]
     },
     "execution_count": 61,
     "metadata": {},
     "output_type": "execute_result"
    }
   ],
   "source": [
    "binom.pmf(1,6,0.25)"
   ]
  },
  {
   "cell_type": "markdown",
   "id": "ac7caa4a",
   "metadata": {},
   "source": [
    "# 11 "
   ]
  },
  {
   "cell_type": "markdown",
   "id": "c0437425",
   "metadata": {},
   "source": [
    " There are 10 balls  in a bowl ,  3 of the balls are red and 7 of them are blue. If  drawing a red ball is defined as success and sampling is with replacement, find the probability of getting 5 red balls in 20 trials."
   ]
  },
  {
   "cell_type": "code",
   "execution_count": 66,
   "id": "12a055e6",
   "metadata": {},
   "outputs": [
    {
     "data": {
      "text/plain": [
       "0.00023857561240395544"
      ]
     },
     "execution_count": 66,
     "metadata": {},
     "output_type": "execute_result"
    }
   ],
   "source": [
    "binom.pmf(5,20,0.03)"
   ]
  },
  {
   "cell_type": "code",
   "execution_count": null,
   "id": "a3c67a04",
   "metadata": {},
   "outputs": [],
   "source": []
  }
 ],
 "metadata": {
  "kernelspec": {
   "display_name": "Python 3 (ipykernel)",
   "language": "python",
   "name": "python3"
  },
  "language_info": {
   "codemirror_mode": {
    "name": "ipython",
    "version": 3
   },
   "file_extension": ".py",
   "mimetype": "text/x-python",
   "name": "python",
   "nbconvert_exporter": "python",
   "pygments_lexer": "ipython3",
   "version": "3.9.12"
  }
 },
 "nbformat": 4,
 "nbformat_minor": 5
}
